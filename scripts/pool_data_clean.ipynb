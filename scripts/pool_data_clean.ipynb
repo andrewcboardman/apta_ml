{
 "cells": [
  {
   "cell_type": "code",
   "execution_count": 1,
   "metadata": {},
   "outputs": [],
   "source": [
    "!gunzip /storage/Ilk/pool234.txt.gz"
   ]
  },
  {
   "cell_type": "code",
   "execution_count": 4,
   "metadata": {},
   "outputs": [],
   "source": [
    "!head /storage/Ilk/pool234.txt > test_pool.txt"
   ]
  },
  {
   "cell_type": "code",
   "execution_count": 5,
   "metadata": {},
   "outputs": [
    {
     "name": "stdout",
     "output_type": "stream",
     "text": [
      "Aptamer Id\tSequence\tRound2\tRound3\tRound4\r\n",
      "27\tCCCCCGCATCACGCCGTGGTGCGATTGACACAATTGCAAT\t 6.832e-04\t 2.426e-03\t 6.156e-02\r\n",
      "316\tTCACAGTCCCGGTGCCGCACTAAAACCCATTGTTGTGCGA\t 2.649e-04\t 9.424e-04\t 2.245e-02\r\n",
      "296\tAATCGCTCAGCCGGTCCGGAACTGGCAAAGTCAGGTGCTC\t 7.132e-04\t 2.207e-03\t 1.121e-02\r\n",
      "8\tTGAGAACTTCTCTCAGTCGGTGGGAGAGTACATCCTAACA\t 1.566e-04\t 6.391e-04\t 1.404e-02\r\n",
      "56\tACTATAACGCGTCAAAGTGCTTATCGAACACTATTTGTAA\t 1.429e-04\t 5.201e-04\t 1.268e-02\r\n",
      "15\tTAGACGAGCACTTCTCTCAGTCGCATTCATTATTTAAATT\t 1.071e-04\t 4.253e-04\t 1.014e-02\r\n",
      "30\tCCCCTTCCAGCGATTACGATCATTGACTCTCAGTCCTGTG\t 7.878e-05\t 2.581e-04\t 6.880e-03\r\n",
      "184\tACGATCACTTCTCTCAGTCGGACTAATATTACGGTTAGAA\t 4.225e-05\t 1.672e-04\t 3.938e-03\r\n",
      "404\tATCGACAGCTCTCAGTCCATTCGAGGAATGTTCATCGATA\t 4.053e-05\t 1.504e-04\t 3.443e-03\r\n"
     ]
    }
   ],
   "source": [
    "!head test_pool.txt"
   ]
  },
  {
   "cell_type": "code",
   "execution_count": 16,
   "metadata": {},
   "outputs": [],
   "source": [
    "import pandas as pd\n",
    "data = pd.read_csv('/storage/Ilk/pool234.txt',sep='\\t')"
   ]
  },
  {
   "cell_type": "code",
   "execution_count": 17,
   "metadata": {},
   "outputs": [
    {
     "data": {
      "text/plain": [
       "5058805"
      ]
     },
     "execution_count": 17,
     "metadata": {},
     "output_type": "execute_result"
    }
   ],
   "source": [
    "from Bio import SeqIO\n",
    "from Bio.SeqRecord import SeqRecord\n",
    "from Bio.Seq import Seq\n",
    "seqs2 = data['Sequence'][data['Round2'] != 0]\n",
    "ids2 = data['Round2'][data['Round2'] != 0]\n",
    "Seq('CCCCCGCATCACGCCGTGGTGCGATTGACACAATTGCAAT')\n",
    "recs2 = (SeqRecord(Seq(seq),id=str(count)) for (seq,count) in zip(seqs2,ids2))\n",
    "SeqIO.write(recs2,'pool2_test.fa','fasta')"
   ]
  },
  {
   "cell_type": "code",
   "execution_count": 20,
   "metadata": {},
   "outputs": [],
   "source": [
    "!mv pool2_test.fa /storage/Ilk/pool2.fa"
   ]
  },
  {
   "cell_type": "code",
   "execution_count": 18,
   "metadata": {},
   "outputs": [
    {
     "data": {
      "text/plain": [
       "4017386"
      ]
     },
     "execution_count": 18,
     "metadata": {},
     "output_type": "execute_result"
    }
   ],
   "source": [
    "seqs2 = data['Sequence'][data['Round3'] != 0]\n",
    "ids2 = data['Round3'][data['Round3'] != 0]\n",
    "recs2 = (SeqRecord(Seq(seq),id=str(count)) for (seq,count) in zip(seqs3,ids3))\n",
    "SeqIO.write(recs2,'/storage/Ilk/pool3.fa','fasta')"
   ]
  },
  {
   "cell_type": "code",
   "execution_count": 21,
   "metadata": {},
   "outputs": [
    {
     "data": {
      "text/plain": [
       "0"
      ]
     },
     "execution_count": 21,
     "metadata": {},
     "output_type": "execute_result"
    }
   ],
   "source": [
    "seqs4 = data['Sequence'][data['Round4'] != 0]\n",
    "ids4 = data['Round4'][data['Round4'] != 0]\n",
    "recs4 = (SeqRecord(Seq(seq),id=str(count)) for (seq,count) in zip(seqs4,ids4))\n",
    "SeqIO.write(recs4,'/storage/Ilk/pool4.fa','fasta')"
   ]
  },
  {
   "cell_type": "code",
   "execution_count": 25,
   "metadata": {},
   "outputs": [
    {
     "data": {
      "text/plain": [
       "1445938"
      ]
     },
     "execution_count": 25,
     "metadata": {},
     "output_type": "execute_result"
    }
   ],
   "source": [
    "SeqIO.write(recs4,'/storage/Ilk/pool4.fa','fasta')"
   ]
  },
  {
   "cell_type": "code",
   "execution_count": 26,
   "metadata": {},
   "outputs": [],
   "source": [
    "del data"
   ]
  },
  {
   "cell_type": "code",
   "execution_count": null,
   "metadata": {},
   "outputs": [],
   "source": [
    "data = pd.read_csv('/storage/Ilk/Pool')"
   ]
  }
 ],
 "metadata": {
  "kernelspec": {
   "display_name": "Python 3",
   "language": "python",
   "name": "python3"
  },
  "language_info": {
   "codemirror_mode": {
    "name": "ipython",
    "version": 3
   },
   "file_extension": ".py",
   "mimetype": "text/x-python",
   "name": "python",
   "nbconvert_exporter": "python",
   "pygments_lexer": "ipython3",
   "version": "3.5.2"
  }
 },
 "nbformat": 4,
 "nbformat_minor": 2
}
