{
 "cells": [
  {
   "cell_type": "code",
   "execution_count": 5,
   "metadata": {},
   "outputs": [
    {
     "name": "stdout",
     "output_type": "stream",
     "text": [
      "/usr/local/lib/python3.5/dist-packages/h5py/__init__.py:36: FutureWarning: Conversion of the second argument of issubdtype from `float` to `np.floating` is deprecated. In future, it will be treated as `np.float64 == np.dtype(float).type`.\n",
      "  from ._conv import register_converters as _register_converters\n",
      "Using TensorFlow backend.\n",
      "usage: data_process.py [-h] [-i1 INFILE1] [-i0 INFILE0] [-o OUTFILE] [-s]\n",
      "\n",
      "optional arguments:\n",
      "  -h, --help            show this help message and exit\n",
      "  -i1 INFILE1, --infile1 INFILE1\n",
      "                        Binding sequences\n",
      "  -i0 INFILE0, --infile0 INFILE0\n",
      "                        Control sequences\n",
      "  -o OUTFILE, --outfile OUTFILE\n",
      "                        Output file\n",
      "  -s, --standardise     Standardise data\n"
     ]
    }
   ],
   "source": [
    "!python /storage/code/data_process.py -h"
   ]
  },
  {
   "cell_type": "code",
   "execution_count": 6,
   "metadata": {},
   "outputs": [
    {
     "name": "stdout",
     "output_type": "stream",
     "text": [
      "Pool5.fa.gz\t Round5_test.txt\t  test0_.csv\r\n",
      "Round2.txt\t Rounds25\t\t  test_cnn\r\n",
      "Round2.txt.gz\t Rounds25.hdf5\t\t  test_cnn_cnn\r\n",
      "Round2_test.txt  Rounds25_cnn\t\t  test_cnn_hist.json\r\n",
      "Round3.txt\t Rounds25_cnn_cnn\t  test_cnn_r2vr5\r\n",
      "Round3.txt.gz\t Rounds25_cnn_hist.json   test_cnn_r2vr5_cnn\r\n",
      "Round4.txt\t Rounds25_cnn_report.txt  test_cnn_r2vr5_hist.json\r\n",
      "Round4.txt.gz\t pool234.txt.gz\t\t  test_cnn_r2vr5_report.txt\r\n",
      "Round5.txt\t test.hdf5\t\t  test_cnn_report.txt\r\n",
      "Round5.txt.gz\t test.pkl\t\t  test_logit\r\n"
     ]
    }
   ],
   "source": [
    "!ls /storage/Ilk"
   ]
  }
 ],
 "metadata": {
  "kernelspec": {
   "display_name": "Python 3",
   "language": "python",
   "name": "python3"
  },
  "language_info": {
   "codemirror_mode": {
    "name": "ipython",
    "version": 3
   },
   "file_extension": ".py",
   "mimetype": "text/x-python",
   "name": "python",
   "nbconvert_exporter": "python",
   "pygments_lexer": "ipython3",
   "version": "3.5.2"
  }
 },
 "nbformat": 4,
 "nbformat_minor": 2
}
