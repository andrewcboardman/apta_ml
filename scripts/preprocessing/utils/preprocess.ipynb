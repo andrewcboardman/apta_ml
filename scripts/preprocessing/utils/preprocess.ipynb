{
 "cells": [
  {
   "cell_type": "code",
   "execution_count": 2,
   "metadata": {},
   "outputs": [
    {
     "name": "stdout",
     "output_type": "stream",
     "text": [
      "enriched2v5.fasta\t enrichment2v5.hdf5\tnon_enriched2v5.fasta_lbl\r\n",
      "enriched2v5.fasta_lbl\t fit_enrichment.hdf5\tnon_enriched2v5_subsample.fasta\r\n",
      "enriched2v5.fasta_merge  non_enriched2v5.fasta\r\n"
     ]
    }
   ],
   "source": [
    "!ls /storage/data/Ilk_enrichment/"
   ]
  },
  {
   "cell_type": "code",
   "execution_count": 5,
   "metadata": {},
   "outputs": [],
   "source": [
    "!python /storage/code/encode_simple.py -i /storage/data/Ilk_enrichment/enriched2v5.fasta_lbl -o /storage/data/Ilk_enrichment/enriched.csv"
   ]
  },
  {
   "cell_type": "code",
   "execution_count": 6,
   "metadata": {},
   "outputs": [
    {
     "name": "stdout",
     "output_type": "stream",
     "text": [
      "fit_enriched2v5.fasta\t     fit_enrichment2v5.hdf5\r\n",
      "fit_enriched2v5.fasta_lbl    fit_non_enriched2v5.fasta\r\n",
      "fit_enriched2v5.fasta_merge  fit_non_enriched2v5.fasta_lbl\r\n",
      "fit_enrichment.hdf5\r\n"
     ]
    }
   ],
   "source": [
    "!ls /storage/data/Ilk_fit"
   ]
  },
  {
   "cell_type": "code",
   "execution_count": 7,
   "metadata": {},
   "outputs": [],
   "source": [
    "!python /storage/code/encode_simple.py -i /storage/data/Ilk_fit/fit_enriched2v5.fasta_lbl -o /storage/data/Ilk_fit/fit_enriched.csv"
   ]
  }
 ],
 "metadata": {
  "kernelspec": {
   "display_name": "Python 3",
   "language": "python",
   "name": "python3"
  },
  "language_info": {
   "codemirror_mode": {
    "name": "ipython",
    "version": 3
   },
   "file_extension": ".py",
   "mimetype": "text/x-python",
   "name": "python",
   "nbconvert_exporter": "python",
   "pygments_lexer": "ipython3",
   "version": "3.5.2"
  }
 },
 "nbformat": 4,
 "nbformat_minor": 2
}
